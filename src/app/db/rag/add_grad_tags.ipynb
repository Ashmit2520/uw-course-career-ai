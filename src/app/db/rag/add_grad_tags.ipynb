{
 "cells": [
  {
   "cell_type": "code",
   "execution_count": 1,
   "id": "e4c0c936",
   "metadata": {},
   "outputs": [],
   "source": [
    "import getpass\n",
    "import os\n",
    "\n",
    "if \"OPENAI_API_KEY\" not in os.environ:\n",
    "    os.environ[\"OPENAI_API_KEY\"] = getpass.getpass(\"OpenAI API Key:\")\n",
    "if \"SUPABASE_URL\" not in os.environ:\n",
    "    os.environ[\"SUPABASE_URL\"] = getpass.getpass(\"Supabase URL:\")\n",
    "if \"SUPABASE_SERVICE_KEY\" not in os.environ:\n",
    "    os.environ[\"SUPABASE_SERVICE_KEY\"] = getpass.getpass(\"Supabase Service Key:\")"
   ]
  },
  {
   "cell_type": "code",
   "execution_count": 2,
   "id": "5806b95e",
   "metadata": {},
   "outputs": [],
   "source": [
    "from langchain_community.vectorstores import SupabaseVectorStore\n",
    "from langchain_openai import OpenAIEmbeddings\n",
    "from supabase.client import Client, create_client\n",
    "\n",
    "supabase_url = os.environ.get(\"SUPABASE_URL\")\n",
    "supabase_key = os.environ.get(\"SUPABASE_SERVICE_KEY\")\n",
    "supabase: Client = create_client(supabase_url, supabase_key)\n",
    "\n",
    "embedding_model = OpenAIEmbeddings(model=\"text-embedding-3-small\")"
   ]
  },
  {
   "cell_type": "code",
   "execution_count": null,
   "id": "8d05bd80",
   "metadata": {},
   "outputs": [],
   "source": [
    "import json\n",
    "\n",
    "with open(\"../prereqMap.json\", \"r\") as f:\n",
    "    prereq_map = json.load(f)\n",
    "\n",
    "# --- Fetch all course prerequisite texts from Supabase ---\n",
    "def fetch_prerequisite_texts():\n",
    "    response = supabase.table(\"courses_new\").select(\"course_name\", \"prerequisites\").execute()\n",
    "    rows = response.data\n",
    "    return {row[\"course_name\"]: row.get(\"prerequisites\", \"\") for row in rows}\n",
    "\n",
    "text_prereqs = fetch_prerequisite_texts()"
   ]
  },
  {
   "cell_type": "code",
   "execution_count": null,
   "id": "33fcc8cf",
   "metadata": {},
   "outputs": [],
   "source": [
    "# import openai\n",
    "# import time\n",
    "# def needs_grad_req_gpt(prereq_text):\n",
    "#     prompt = f\"\"\"\n",
    "#         The following course has this prerequisite text:\n",
    "\n",
    "#         \"{prereq_text}\"\n",
    "\n",
    "#         Based on this, can an undergraduate take the course (OR do they strictly need to be a graduate/professional-level student?)\n",
    "#         Examples:\n",
    "#         \"Graduate/professional standing or declared in Statistics VISP\" : NO\n",
    "#         \"Graduate/professional standing or declared in Mathematics VISP\": NO\n",
    "#         \"Graduate/professional standing andF&WECTAT 572orAN SCI 865\": NO\n",
    "#         \"Graduate/professional standing or (PHYSICS 202or208andZOOLOGY/​BIOLOGY/​BOTANY  152or153)\": YES\n",
    "#         \"Graduate/professional standing or Declared in Analytics for Decision Making capstone certificate\": YES\n",
    "#         \"JOURN 335,345, or graduate/professional standing\": YES\n",
    "\n",
    "#         Return your answer as either YES or NO. YES means an undergrad CAN take the course, and NO means an undergrad cannot take the course.\n",
    "#         \"\"\"\n",
    "#     res = openai.chat.completions.create(\n",
    "#         model=\"gpt-4.1-nano\",\n",
    "#         messages=[{\"role\": \"user\", \"content\": prompt}],\n",
    "#         temperature=0\n",
    "#     )\n",
    "#     time.sleep(0.5)\n",
    "#     return \"no\" in res.choices[0].message.content.lower()\n"
   ]
  },
  {
   "cell_type": "code",
   "execution_count": 126,
   "id": "963a55ca",
   "metadata": {},
   "outputs": [],
   "source": [
    "def is_grad_only_text(prereq_text: str) -> bool:\n",
    "    prereq_text = prereq_text.lower().strip()\n",
    "\n",
    "    if \"graduate/professional standing\" in prereq_text and \"or\" not in prereq_text:\n",
    "        return True\n",
    "    for phrase in [\n",
    "        \"graduate standing and\",\n",
    "        \"must be a graduate student\",\n",
    "        \"open only to graduate\",\n",
    "        \"graduate or dissertator\",\n",
    "        \"professional standing and\",\n",
    "        \"visp (graduate\",\n",
    "        \"graduate-level visp\"\n",
    "    ]:\n",
    "        if phrase in prereq_text:\n",
    "            return True\n",
    "    return False"
   ]
  },
  {
   "cell_type": "code",
   "execution_count": null,
   "id": "364933ee",
   "metadata": {},
   "outputs": [],
   "source": [
    "# violations: COMARTS 613\n",
    "#PhD\n"
   ]
  },
  {
   "cell_type": "code",
   "execution_count": 127,
   "id": "6c97f77c",
   "metadata": {},
   "outputs": [],
   "source": [
    "grad_requirement_cache = {}\n",
    "\n",
    "def requires_grad_standing(course, prereq_map, text_prereqs, visited=None):\n",
    "    if visited is None:\n",
    "        visited = set()\n",
    "    if course in grad_requirement_cache:\n",
    "        if course == \"COMARTS 613\":\n",
    "            print(\"1\", grad_requirement_cache[course])\n",
    "        return grad_requirement_cache[course]\n",
    "    if course in visited:\n",
    "        if course == \"COMARTS 613\":\n",
    "            print(\"2\")\n",
    "        return False\n",
    "    visited.add(course)\n",
    "\n",
    "    prereq_text = text_prereqs.get(course, \"\").lower().strip()\n",
    "    if prereq_text == \"none\":\n",
    "        if course == \"COMARTS 613\":\n",
    "            print(\"3\")\n",
    "        grad_requirement_cache[course] = False\n",
    "        return False\n",
    "\n",
    "    if is_grad_only_text(prereq_text):\n",
    "        if course == \"COMARTS 613\":\n",
    "            print(\"4\")\n",
    "        grad_requirement_cache[course] = True\n",
    "        return True\n",
    "\n",
    "    if prereq_map.get(course, []) == []:\n",
    "        return False\n",
    "    \n",
    "    for child in prereq_map.get(course, []):\n",
    "        if not requires_grad_standing(child, prereq_map, text_prereqs, visited):\n",
    "            if course == \"COMARTS 613\":\n",
    "                print(\"5\")\n",
    "            grad_requirement_cache[course] = False\n",
    "            return False\n",
    "    if course == \"COMARTS 613\":\n",
    "            print(\"6\")\n",
    "\n",
    "    grad_requirement_cache[course] = True\n",
    "    return True\n",
    "\n"
   ]
  },
  {
   "cell_type": "code",
   "execution_count": 128,
   "id": "031fe73d",
   "metadata": {},
   "outputs": [
    {
     "name": "stdout",
     "output_type": "stream",
     "text": [
      "5\n",
      "1 False\n",
      "False\n"
     ]
    }
   ],
   "source": [
    "updates = []\n",
    "for course in prereq_map:\n",
    "    grad_only = requires_grad_standing(course, prereq_map, text_prereqs)\n",
    "    updates.append({\"course_name\": course, \"needs_grad_standing\": grad_only})\n",
    "\n",
    "c = requires_grad_standing(\"COMARTS 613\", prereq_map, text_prereqs)\n",
    "print(c)\n",
    "# Upsert into Supabase\n"
   ]
  },
  {
   "cell_type": "code",
   "execution_count": null,
   "id": "241cf507",
   "metadata": {},
   "outputs": [
    {
     "name": "stdout",
     "output_type": "stream",
     "text": [
      "Completed batch: 0\n",
      "Completed batch: 100\n",
      "Completed batch: 200\n",
      "Completed batch: 300\n",
      "Completed batch: 400\n",
      "Completed batch: 500\n",
      "Completed batch: 600\n",
      "Completed batch: 700\n",
      "Completed batch: 800\n",
      "Completed batch: 900\n",
      "Completed batch: 1000\n",
      "Completed batch: 1100\n",
      "Completed batch: 1200\n",
      "Completed batch: 1300\n",
      "Completed batch: 1400\n",
      "Completed batch: 1500\n",
      "Completed batch: 1600\n",
      "Completed batch: 1700\n",
      "Completed batch: 1800\n",
      "Completed batch: 1900\n",
      "Completed batch: 2000\n",
      "Completed batch: 2100\n",
      "Completed batch: 2200\n",
      "Completed batch: 2300\n",
      "Completed batch: 2400\n",
      "Completed batch: 2500\n",
      "Completed batch: 2600\n",
      "Completed batch: 2700\n",
      "Completed batch: 2800\n",
      "Completed batch: 2900\n",
      "Completed batch: 3000\n",
      "Completed batch: 3100\n",
      "Completed batch: 3200\n",
      "Completed batch: 3300\n",
      "Completed batch: 3400\n",
      "Completed batch: 3500\n",
      "Completed batch: 3600\n",
      "Completed batch: 3700\n",
      "Completed batch: 3800\n",
      "Completed batch: 3900\n",
      "Completed batch: 4000\n",
      "Completed batch: 4100\n",
      "Completed batch: 4200\n",
      "Completed batch: 4300\n",
      "Completed batch: 4400\n",
      "Completed batch: 4500\n",
      "Completed batch: 4600\n",
      "Completed batch: 4700\n",
      "Completed batch: 4800\n",
      "Completed batch: 4900\n",
      "Completed batch: 5000\n",
      "Completed batch: 5100\n",
      "Completed batch: 5200\n",
      "Completed batch: 5300\n",
      "Completed batch: 5400\n",
      "Completed batch: 5500\n",
      "Completed batch: 5600\n",
      "Completed batch: 5700\n",
      "Completed batch: 5800\n",
      "Completed batch: 5900\n",
      "Completed batch: 6000\n",
      "Completed batch: 6100\n",
      "Completed batch: 6200\n",
      "Completed batch: 6300\n",
      "Completed batch: 6400\n",
      "Completed batch: 6500\n",
      "Completed batch: 6600\n",
      "Completed batch: 6700\n",
      "Completed batch: 6800\n",
      "Completed batch: 6900\n",
      "Completed batch: 7000\n",
      "Completed batch: 7100\n",
      "Completed batch: 7200\n",
      "Completed batch: 7300\n",
      "Completed batch: 7400\n",
      "Completed batch: 7500\n",
      "Completed batch: 7600\n",
      "Completed batch: 7700\n",
      "Completed batch: 7800\n",
      "Completed batch: 7900\n",
      "Completed batch: 8000\n",
      "Completed batch: 8100\n",
      "Completed batch: 8200\n",
      "Completed batch: 8300\n",
      "Completed batch: 8400\n",
      "Completed batch: 8500\n",
      "Completed batch: 8600\n",
      "Completed batch: 8700\n",
      "Completed batch: 8800\n",
      "Completed batch: 8900\n"
     ]
    }
   ],
   "source": [
    "# BATCH_SIZE = 100  # Start with 100 and increase if stable\n",
    "\n",
    "# already_inserted = True\n",
    "# if not already_inserted:\n",
    "# for i in range(0, len(updates), BATCH_SIZE):\n",
    "#     batch = updates[i:i + BATCH_SIZE]\n",
    "#     supabase.table(\"courses_new\") \\\n",
    "#         .upsert(batch, on_conflict=[\"course_name\"]) \\\n",
    "#         .execute()\n",
    "#     print(f\"Completed batch: {i}\")"
   ]
  },
  {
   "cell_type": "code",
   "execution_count": 92,
   "id": "9d9e55d6",
   "metadata": {},
   "outputs": [
    {
     "name": "stdout",
     "output_type": "stream",
     "text": [
      "1 True\n",
      "True\n"
     ]
    }
   ],
   "source": [
    "c = requires_grad_standing(\"COMPSCI, ECE 760\", prereq_map, text_prereqs)\n",
    "print(c)"
   ]
  },
  {
   "cell_type": "code",
   "execution_count": 135,
   "id": "3a1353dd",
   "metadata": {},
   "outputs": [
    {
     "name": "stdout",
     "output_type": "stream",
     "text": [
      "CS&D 861 → grad-only\n",
      "  Prereq text: Declared in Audiology Consortial Program with UW-Stevens Point AUD\n",
      "\n",
      "SOCWORK 861 → grad-only\n",
      "  Prereq text: Declared in Social Work MSW\n",
      "\n",
      "COMPSCI, STAT, ECE 861 → grad-only\n",
      "  Prereq text: E C E/​COMP SCI  761orE C E 830\n",
      "\n",
      "HISTORY 861 → grad-only\n",
      "  Prereq text: Consent of instructor\n",
      "\n"
     ]
    }
   ],
   "source": [
    "for update in updates:\n",
    "    if not update[\"needs_grad_standing\"]:\n",
    "        course = update[\"course_name\"]\n",
    "        if \"861\" in course:\n",
    "            prereq_text = text_prereqs.get(course, \"\")\n",
    "            print(f\"{course} → grad-only\\n  Prereq text: {prereq_text}\\n\")\n"
   ]
  }
 ],
 "metadata": {
  "kernelspec": {
   "display_name": ".venv",
   "language": "python",
   "name": "python3"
  },
  "language_info": {
   "codemirror_mode": {
    "name": "ipython",
    "version": 3
   },
   "file_extension": ".py",
   "mimetype": "text/x-python",
   "name": "python",
   "nbconvert_exporter": "python",
   "pygments_lexer": "ipython3",
   "version": "3.13.3"
  }
 },
 "nbformat": 4,
 "nbformat_minor": 5
}
