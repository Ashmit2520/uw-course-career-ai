{
 "cells": [
  {
   "cell_type": "code",
   "execution_count": 1,
   "id": "ad4172f2",
   "metadata": {},
   "outputs": [],
   "source": [
    "import getpass\n",
    "import os\n",
    "\n",
    "if \"OPENAI_API_KEY\" not in os.environ:\n",
    "    os.environ[\"OPENAI_API_KEY\"] = getpass.getpass(\"OpenAI API Key:\")\n",
    "if \"SUPABASE_URL\" not in os.environ:\n",
    "    os.environ[\"SUPABASE_URL\"] = getpass.getpass(\"Supabase URL:\")\n",
    "if \"SUPABASE_SERVICE_KEY\" not in os.environ:\n",
    "    os.environ[\"SUPABASE_SERVICE_KEY\"] = getpass.getpass(\"Supabase Service Key:\")"
   ]
  },
  {
   "cell_type": "code",
   "execution_count": 2,
   "id": "38b91940",
   "metadata": {},
   "outputs": [],
   "source": [
    "from langchain_community.vectorstores import SupabaseVectorStore\n",
    "from langchain_openai import OpenAIEmbeddings\n",
    "from supabase.client import Client, create_client\n",
    "\n",
    "supabase_url = os.environ.get(\"SUPABASE_URL\")\n",
    "supabase_key = os.environ.get(\"SUPABASE_SERVICE_KEY\")\n",
    "supabase: Client = create_client(supabase_url, supabase_key)\n",
    "\n",
    "embedding_model = OpenAIEmbeddings(model=\"text-embedding-3-small\")\n"
   ]
  },
  {
   "cell_type": "code",
   "execution_count": null,
   "id": "5eb754d0",
   "metadata": {},
   "outputs": [
    {
     "name": "stdout",
     "output_type": "stream",
     "text": [
      "0\n"
     ]
    }
   ],
   "source": [
    "# # Parameters\n",
    "# BATCH_SIZE = 3  # OpenAI recommends ~100 or fewer depending on text length\n",
    "# DELAY_SECONDS = 60  # Avoid rate limit: delay after each batch\n",
    "\n",
    "# # Fetch rows from Supabase\n",
    "# response = (\n",
    "#     supabase.table(\"courses_new\")\n",
    "#     .select(\"*\")\n",
    "#     .is_(\"embedding\", \"null\")  # only rows with no embedding\n",
    "#     .range(0, 100000)  # optional paging\n",
    "#     .execute()\n",
    "# )\n",
    "\n",
    "# rows = response.data\n",
    "\n",
    "# rows_no_id = [\n",
    "#     {k: v for k, v in row.items() if k != \"id\" and k != \"terms_offered\"} for row in rows\n",
    "# ]\n",
    "\n",
    "# texts_to_embed = [\n",
    "#     \", \".join(\n",
    "#         f\"{key}: {value}\" for key, value in r.items() if value is not None\n",
    "#     )\n",
    "#     for r in rows_no_id\n",
    "# ]\n",
    "\n",
    "# print(len(response.data))"
   ]
  },
  {
   "cell_type": "code",
   "execution_count": 2,
   "id": "a2bd2435",
   "metadata": {},
   "outputs": [],
   "source": [
    "# print(texts_to_embed[0])\n",
    "# print(texts_to_embed[1])\n",
    "# import time \n",
    "# ids = [row[\"id\"] for row in rows]\n",
    "# START_BATCH = 0\n",
    "\n",
    "# # Process in batches\n",
    "# for i in range(START_BATCH * BATCH_SIZE, len(texts_to_embed), BATCH_SIZE):\n",
    "#     if i == 0 :\n",
    "#         print(texts_to_embed[i])\n",
    "#     batch_texts = texts_to_embed[i : i + BATCH_SIZE]\n",
    "#     batch_ids = ids[i : i + BATCH_SIZE]\n",
    "\n",
    "#     try:\n",
    "#         embeddings = embedding_model.embed_documents(batch_texts)\n",
    "#     except Exception as e:\n",
    "#         print(f\"Error on batch {i}: {e}\")\n",
    "#         time.sleep(60)\n",
    "#         continue\n",
    "    \n",
    "#     # Upload each embedding back to Supabase\n",
    "#     for row_id, emb in zip(batch_ids, embeddings):\n",
    "#         supabase.table(\"courses_new\").update({\"embedding\": emb}).eq(\n",
    "#             \"id\", row_id\n",
    "#         ).execute()\n",
    "#     time.sleep(0.5)\n",
    "#     print(f\"Uploaded batch {i // BATCH_SIZE + 1}\")\n"
   ]
  },
  {
   "cell_type": "code",
   "execution_count": null,
   "id": "0572abbb",
   "metadata": {},
   "outputs": [
    {
     "ename": "OpenAIError",
     "evalue": "The api_key client option must be set either by passing api_key to the client or by setting the OPENAI_API_KEY environment variable",
     "output_type": "error",
     "traceback": [
      "\u001b[31m---------------------------------------------------------------------------\u001b[39m",
      "\u001b[31mOpenAIError\u001b[39m                               Traceback (most recent call last)",
      "\u001b[36mCell\u001b[39m\u001b[36m \u001b[39m\u001b[32mIn[1]\u001b[39m\u001b[32m, line 3\u001b[39m\n\u001b[32m      1\u001b[39m \u001b[38;5;28;01mfrom\u001b[39;00m\u001b[38;5;250m \u001b[39m\u001b[34;01mlangchain_community\u001b[39;00m\u001b[34;01m.\u001b[39;00m\u001b[34;01mvectorstores\u001b[39;00m\u001b[38;5;250m \u001b[39m\u001b[38;5;28;01mimport\u001b[39;00m SupabaseVectorStore\n\u001b[32m      2\u001b[39m \u001b[38;5;28;01mfrom\u001b[39;00m\u001b[38;5;250m \u001b[39m\u001b[34;01mlangchain_openai\u001b[39;00m\u001b[38;5;250m \u001b[39m\u001b[38;5;28;01mimport\u001b[39;00m OpenAIEmbeddings\n\u001b[32m----> \u001b[39m\u001b[32m3\u001b[39m embedding_model = \u001b[43mOpenAIEmbeddings\u001b[49m\u001b[43m(\u001b[49m\u001b[43mmodel\u001b[49m\u001b[43m=\u001b[49m\u001b[33;43m\"\u001b[39;49m\u001b[33;43mtext-embedding-3-small\u001b[39;49m\u001b[33;43m\"\u001b[39;49m\u001b[43m)\u001b[49m\n\u001b[32m      5\u001b[39m vectorstore = SupabaseVectorStore(\n\u001b[32m      6\u001b[39m     client=supabase,\n\u001b[32m      7\u001b[39m     embedding=embedding_model,\n\u001b[32m   (...)\u001b[39m\u001b[32m     10\u001b[39m \n\u001b[32m     11\u001b[39m )\n",
      "    \u001b[31m[... skipping hidden 1 frame]\u001b[39m\n",
      "\u001b[36mFile \u001b[39m\u001b[32m~/Desktop/Other/SAIL2025/.venv/lib/python3.13/site-packages/langchain_openai/embeddings/base.py:327\u001b[39m, in \u001b[36mOpenAIEmbeddings.validate_environment\u001b[39m\u001b[34m(self)\u001b[39m\n\u001b[32m    325\u001b[39m         \u001b[38;5;28mself\u001b[39m.http_client = httpx.Client(proxy=\u001b[38;5;28mself\u001b[39m.openai_proxy)\n\u001b[32m    326\u001b[39m     sync_specific = {\u001b[33m\"\u001b[39m\u001b[33mhttp_client\u001b[39m\u001b[33m\"\u001b[39m: \u001b[38;5;28mself\u001b[39m.http_client}\n\u001b[32m--> \u001b[39m\u001b[32m327\u001b[39m     \u001b[38;5;28mself\u001b[39m.client = \u001b[43mopenai\u001b[49m\u001b[43m.\u001b[49m\u001b[43mOpenAI\u001b[49m\u001b[43m(\u001b[49m\u001b[43m*\u001b[49m\u001b[43m*\u001b[49m\u001b[43mclient_params\u001b[49m\u001b[43m,\u001b[49m\u001b[43m \u001b[49m\u001b[43m*\u001b[49m\u001b[43m*\u001b[49m\u001b[43msync_specific\u001b[49m\u001b[43m)\u001b[49m.embeddings  \u001b[38;5;66;03m# type: ignore[arg-type]\u001b[39;00m\n\u001b[32m    328\u001b[39m \u001b[38;5;28;01mif\u001b[39;00m \u001b[38;5;129;01mnot\u001b[39;00m \u001b[38;5;28mself\u001b[39m.async_client:\n\u001b[32m    329\u001b[39m     \u001b[38;5;28;01mif\u001b[39;00m \u001b[38;5;28mself\u001b[39m.openai_proxy \u001b[38;5;129;01mand\u001b[39;00m \u001b[38;5;129;01mnot\u001b[39;00m \u001b[38;5;28mself\u001b[39m.http_async_client:\n",
      "\u001b[36mFile \u001b[39m\u001b[32m~/Desktop/Other/SAIL2025/.venv/lib/python3.13/site-packages/openai/_client.py:130\u001b[39m, in \u001b[36mOpenAI.__init__\u001b[39m\u001b[34m(self, api_key, organization, project, webhook_secret, base_url, websocket_base_url, timeout, max_retries, default_headers, default_query, http_client, _strict_response_validation)\u001b[39m\n\u001b[32m    128\u001b[39m     api_key = os.environ.get(\u001b[33m\"\u001b[39m\u001b[33mOPENAI_API_KEY\u001b[39m\u001b[33m\"\u001b[39m)\n\u001b[32m    129\u001b[39m \u001b[38;5;28;01mif\u001b[39;00m api_key \u001b[38;5;129;01mis\u001b[39;00m \u001b[38;5;28;01mNone\u001b[39;00m:\n\u001b[32m--> \u001b[39m\u001b[32m130\u001b[39m     \u001b[38;5;28;01mraise\u001b[39;00m OpenAIError(\n\u001b[32m    131\u001b[39m         \u001b[33m\"\u001b[39m\u001b[33mThe api_key client option must be set either by passing api_key to the client or by setting the OPENAI_API_KEY environment variable\u001b[39m\u001b[33m\"\u001b[39m\n\u001b[32m    132\u001b[39m     )\n\u001b[32m    133\u001b[39m \u001b[38;5;28mself\u001b[39m.api_key = api_key\n\u001b[32m    135\u001b[39m \u001b[38;5;28;01mif\u001b[39;00m organization \u001b[38;5;129;01mis\u001b[39;00m \u001b[38;5;28;01mNone\u001b[39;00m:\n",
      "\u001b[31mOpenAIError\u001b[39m: The api_key client option must be set either by passing api_key to the client or by setting the OPENAI_API_KEY environment variable"
     ]
    }
   ],
   "source": [
    "from langchain_community.vectorstores import SupabaseVectorStore\n",
    "from langchain_community.retrievers \n",
    "from langchain_openai import OpenAIEmbeddings\n",
    "embedding_model = OpenAIEmbeddings(model=\"text-embedding-3-small\")\n",
    "\n",
    "vectorstore = SupabaseVectorStore(\n",
    "    client=supabase,\n",
    "    embedding=embedding_model,\n",
    "    table_name=\"courses_new\",\n",
    "    query_name=\"match_courses_new\",  # You must define this Postgres function (explained below)\n",
    "\n",
    ")"
   ]
  },
  {
   "cell_type": "code",
   "execution_count": 22,
   "id": "e341c322",
   "metadata": {},
   "outputs": [],
   "source": [
    "desc_row = supabase.table(\"courses_new\").select(\"description\").eq(\"course_name\", \"SLAVIC 102\").maybe_single().execute()\n",
    "query_text = \"COMPSCI 540\""
   ]
  },
  {
   "cell_type": "code",
   "execution_count": null,
   "id": "c6819072",
   "metadata": {},
   "outputs": [
    {
     "name": "stdout",
     "output_type": "stream",
     "text": [
      "page_content='COMPSCI 300' metadata={'course_name': 'COMPSCI 300', 'description': 'Introduction to Object-Oriented Programming using classes and objects to solve more complex problems. Introduces array-based and linked data structures: including lists, stacks, and queues. Programming assignments require writing and developing multi-class (file) programs using interfaces, generics, and exception handling to solve challenging real world problems. Topics reviewed include reading/writing data and objects from/to files and exception handling, and command line arguments. Topics introduced: object-oriented design; class vs. object; create and define interfaces and iterators; searching and sorting; abstract data types (List,Stack,Queue,PriorityQueue(Heap),Binary Search Tree); generic interfaces (parametric polymorphism); how to design and write test methods and classes; array based vs. linked node implementations; introduction to complexity analysis; recursion.', 'subject_name': 'PROGRAMMING II'}\n",
      "page_content='COMPSCI 537' metadata={'course_name': 'COMPSCI 537', 'description': 'Input-output hardware, interrupt handling, properties of magnetic tapes, discs and drums, associative memories and virtual address translation techniques. Batch processing, time sharing and real-time systems, scheduling resource allocation, modular software systems, performance measurement and system evaluation.', 'subject_name': 'INTRODUCTION TO OPERATING SYSTEMS'}\n",
      "page_content='COMPSCI 542' metadata={'course_name': 'COMPSCI 542', 'description': 'Teaches the security considerations that occur during all steps of the software development life cycle: methodologies for designing secure software, programming using secure programming techniques, in-depth vulnerability assessment methodologies, static and dynamic analysis tools for evaluating software security, and system defenses reducing security threats.', 'subject_name': 'INTRODUCTION TO SOFTWARE SECURITY'}\n",
      "page_content='COMPSCI 310' metadata={'course_name': 'COMPSCI 310', 'description': 'Gives students an introduction to computer and analytical skills to use in their subsequent course work and professional development. Discusses several methods of using computers to solve problems, including elementary programming techniques, symbolic manipulation languages, and software packages. Techniques will be illustrated using sample problems drawn from elementary engineering. Emphasis is on introduction of algorithms with the use of specific tools to illustrate the methods.', 'subject_name': 'PROBLEM SOLVING USING COMPUTERS'}\n"
     ]
    }
   ],
   "source": [
    "results = vectorstore.similarity_search(query_text, k=4)\n",
    "\n",
    "for doc in results:\n",
    "    # print(doc.metadata[\"course_name\"], doc.metadata[\"subject_name\"])\n",
    "    # for i, doc in enumerate(results):\n",
    "\n",
    "    print(doc)"
   ]
  },
  {
   "cell_type": "code",
   "execution_count": null,
   "id": "57886b3d",
   "metadata": {},
   "outputs": [],
   "source": [
    "retriever = SupabaseHybridSearch(embeddings, {\n",
    "    client,\n",
    "    //  Below are the defaults, expecting that you set up your supabase table and functions according to the guide above. Please change if necessary.\n",
    "    similarityK: 2,\n",
    "    keywordK: 2,\n",
    "    tableName: \"documents\",\n",
    "    similarityQueryName: \"match_documents\",\n",
    "    keywordQueryName: \"kw_match_documents\",\n",
    "  });\n",
    "\n",
    "  const results = await retriever.invoke(\"hello bye\");\n"
   ]
  }
 ],
 "metadata": {
  "kernelspec": {
   "display_name": ".venv",
   "language": "python",
   "name": "python3"
  },
  "language_info": {
   "codemirror_mode": {
    "name": "ipython",
    "version": 3
   },
   "file_extension": ".py",
   "mimetype": "text/x-python",
   "name": "python",
   "nbconvert_exporter": "python",
   "pygments_lexer": "ipython3",
   "version": "3.13.3"
  }
 },
 "nbformat": 4,
 "nbformat_minor": 5
}
